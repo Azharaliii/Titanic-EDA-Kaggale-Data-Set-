{
 "cells": [
  {
   "cell_type": "markdown",
   "id": "1142d55e",
   "metadata": {
    "papermill": {
     "duration": 0.005023,
     "end_time": "2025-08-03T09:38:23.310704",
     "exception": false,
     "start_time": "2025-08-03T09:38:23.305681",
     "status": "completed"
    },
    "tags": []
   },
   "source": [
    "<h1 style=\"font-size:28px; color:green; font-weight:bold;\">Titanic EDA Notebook  (Pandas, Numpy, Matplotlib)</h1>\n"
   ]
  },
  {
   "cell_type": "markdown",
   "id": "2e7b4734",
   "metadata": {
    "papermill": {
     "duration": 0.004461,
     "end_time": "2025-08-03T09:38:23.319627",
     "exception": false,
     "start_time": "2025-08-03T09:38:23.315166",
     "status": "completed"
    },
    "tags": []
   },
   "source": [
    "## 1. Important Libraries "
   ]
  },
  {
   "cell_type": "markdown",
   "id": "b7278ec4",
   "metadata": {
    "papermill": {
     "duration": 0.003844,
     "end_time": "2025-08-03T09:38:23.328159",
     "exception": false,
     "start_time": "2025-08-03T09:38:23.324315",
     "status": "completed"
    },
    "tags": []
   },
   "source": []
  },
  {
   "cell_type": "code",
   "execution_count": 1,
   "id": "7bb615ab",
   "metadata": {
    "execution": {
     "iopub.execute_input": "2025-08-03T09:38:23.337626Z",
     "iopub.status.busy": "2025-08-03T09:38:23.337324Z",
     "iopub.status.idle": "2025-08-03T09:38:27.324797Z",
     "shell.execute_reply": "2025-08-03T09:38:27.323812Z"
    },
    "papermill": {
     "duration": 3.994527,
     "end_time": "2025-08-03T09:38:27.326738",
     "exception": false,
     "start_time": "2025-08-03T09:38:23.332211",
     "status": "completed"
    },
    "tags": []
   },
   "outputs": [],
   "source": [
    "import pandas as pd;\n",
    "import numpy as np;\n",
    "import matplotlib.pyplot as plt;\n",
    "import seaborn as sns\n"
   ]
  },
  {
   "cell_type": "markdown",
   "id": "d16ab8eb",
   "metadata": {
    "papermill": {
     "duration": 0.00378,
     "end_time": "2025-08-03T09:38:27.334858",
     "exception": false,
     "start_time": "2025-08-03T09:38:27.331078",
     "status": "completed"
    },
    "tags": []
   },
   "source": [
    "## 2. Loading Titanic Dataset "
   ]
  },
  {
   "cell_type": "code",
   "execution_count": 2,
   "id": "98e7d5a3",
   "metadata": {
    "execution": {
     "iopub.execute_input": "2025-08-03T09:38:27.344690Z",
     "iopub.status.busy": "2025-08-03T09:38:27.344256Z",
     "iopub.status.idle": "2025-08-03T09:38:27.390373Z",
     "shell.execute_reply": "2025-08-03T09:38:27.389428Z"
    },
    "papermill": {
     "duration": 0.05333,
     "end_time": "2025-08-03T09:38:27.392179",
     "exception": false,
     "start_time": "2025-08-03T09:38:27.338849",
     "status": "completed"
    },
    "tags": []
   },
   "outputs": [
    {
     "data": {
      "text/html": [
       "<div>\n",
       "<style scoped>\n",
       "    .dataframe tbody tr th:only-of-type {\n",
       "        vertical-align: middle;\n",
       "    }\n",
       "\n",
       "    .dataframe tbody tr th {\n",
       "        vertical-align: top;\n",
       "    }\n",
       "\n",
       "    .dataframe thead th {\n",
       "        text-align: right;\n",
       "    }\n",
       "</style>\n",
       "<table border=\"1\" class=\"dataframe\">\n",
       "  <thead>\n",
       "    <tr style=\"text-align: right;\">\n",
       "      <th></th>\n",
       "      <th>PassengerId</th>\n",
       "      <th>Survived</th>\n",
       "      <th>Pclass</th>\n",
       "      <th>Name</th>\n",
       "      <th>Sex</th>\n",
       "      <th>Age</th>\n",
       "      <th>SibSp</th>\n",
       "      <th>Parch</th>\n",
       "      <th>Ticket</th>\n",
       "      <th>Fare</th>\n",
       "      <th>Cabin</th>\n",
       "      <th>Embarked</th>\n",
       "    </tr>\n",
       "  </thead>\n",
       "  <tbody>\n",
       "    <tr>\n",
       "      <th>0</th>\n",
       "      <td>892</td>\n",
       "      <td>0</td>\n",
       "      <td>3</td>\n",
       "      <td>Kelly, Mr. James</td>\n",
       "      <td>male</td>\n",
       "      <td>34.5</td>\n",
       "      <td>0</td>\n",
       "      <td>0</td>\n",
       "      <td>330911</td>\n",
       "      <td>7.8292</td>\n",
       "      <td>NaN</td>\n",
       "      <td>Q</td>\n",
       "    </tr>\n",
       "    <tr>\n",
       "      <th>1</th>\n",
       "      <td>893</td>\n",
       "      <td>1</td>\n",
       "      <td>3</td>\n",
       "      <td>Wilkes, Mrs. James (Ellen Needs)</td>\n",
       "      <td>female</td>\n",
       "      <td>47.0</td>\n",
       "      <td>1</td>\n",
       "      <td>0</td>\n",
       "      <td>363272</td>\n",
       "      <td>7.0000</td>\n",
       "      <td>NaN</td>\n",
       "      <td>S</td>\n",
       "    </tr>\n",
       "    <tr>\n",
       "      <th>2</th>\n",
       "      <td>894</td>\n",
       "      <td>0</td>\n",
       "      <td>2</td>\n",
       "      <td>Myles, Mr. Thomas Francis</td>\n",
       "      <td>male</td>\n",
       "      <td>62.0</td>\n",
       "      <td>0</td>\n",
       "      <td>0</td>\n",
       "      <td>240276</td>\n",
       "      <td>9.6875</td>\n",
       "      <td>NaN</td>\n",
       "      <td>Q</td>\n",
       "    </tr>\n",
       "    <tr>\n",
       "      <th>3</th>\n",
       "      <td>895</td>\n",
       "      <td>0</td>\n",
       "      <td>3</td>\n",
       "      <td>Wirz, Mr. Albert</td>\n",
       "      <td>male</td>\n",
       "      <td>27.0</td>\n",
       "      <td>0</td>\n",
       "      <td>0</td>\n",
       "      <td>315154</td>\n",
       "      <td>8.6625</td>\n",
       "      <td>NaN</td>\n",
       "      <td>S</td>\n",
       "    </tr>\n",
       "    <tr>\n",
       "      <th>4</th>\n",
       "      <td>896</td>\n",
       "      <td>1</td>\n",
       "      <td>3</td>\n",
       "      <td>Hirvonen, Mrs. Alexander (Helga E Lindqvist)</td>\n",
       "      <td>female</td>\n",
       "      <td>22.0</td>\n",
       "      <td>1</td>\n",
       "      <td>1</td>\n",
       "      <td>3101298</td>\n",
       "      <td>12.2875</td>\n",
       "      <td>NaN</td>\n",
       "      <td>S</td>\n",
       "    </tr>\n",
       "  </tbody>\n",
       "</table>\n",
       "</div>"
      ],
      "text/plain": [
       "   PassengerId  Survived  Pclass  \\\n",
       "0          892         0       3   \n",
       "1          893         1       3   \n",
       "2          894         0       2   \n",
       "3          895         0       3   \n",
       "4          896         1       3   \n",
       "\n",
       "                                           Name     Sex   Age  SibSp  Parch  \\\n",
       "0                              Kelly, Mr. James    male  34.5      0      0   \n",
       "1              Wilkes, Mrs. James (Ellen Needs)  female  47.0      1      0   \n",
       "2                     Myles, Mr. Thomas Francis    male  62.0      0      0   \n",
       "3                              Wirz, Mr. Albert    male  27.0      0      0   \n",
       "4  Hirvonen, Mrs. Alexander (Helga E Lindqvist)  female  22.0      1      1   \n",
       "\n",
       "    Ticket     Fare Cabin Embarked  \n",
       "0   330911   7.8292   NaN        Q  \n",
       "1   363272   7.0000   NaN        S  \n",
       "2   240276   9.6875   NaN        Q  \n",
       "3   315154   8.6625   NaN        S  \n",
       "4  3101298  12.2875   NaN        S  "
      ]
     },
     "execution_count": 2,
     "metadata": {},
     "output_type": "execute_result"
    }
   ],
   "source": [
    "df = pd.read_csv('/kaggle/input/test-file/tested.csv') \n",
    "df.head()  #Preview first 5 rows"
   ]
  },
  {
   "cell_type": "markdown",
   "id": "8a9faa7b",
   "metadata": {
    "papermill": {
     "duration": 0.003994,
     "end_time": "2025-08-03T09:38:27.400634",
     "exception": false,
     "start_time": "2025-08-03T09:38:27.396640",
     "status": "completed"
    },
    "tags": []
   },
   "source": [
    "## 3.Checking Dataset Shape (Rows x Columns)"
   ]
  },
  {
   "cell_type": "code",
   "execution_count": 3,
   "id": "ea49fcda",
   "metadata": {
    "execution": {
     "iopub.execute_input": "2025-08-03T09:38:27.411218Z",
     "iopub.status.busy": "2025-08-03T09:38:27.410463Z",
     "iopub.status.idle": "2025-08-03T09:38:27.416560Z",
     "shell.execute_reply": "2025-08-03T09:38:27.415312Z"
    },
    "papermill": {
     "duration": 0.012952,
     "end_time": "2025-08-03T09:38:27.418093",
     "exception": false,
     "start_time": "2025-08-03T09:38:27.405141",
     "status": "completed"
    },
    "tags": []
   },
   "outputs": [
    {
     "name": "stdout",
     "output_type": "stream",
     "text": [
      "Dataset contains 418 rows and 12 columns.\n"
     ]
    }
   ],
   "source": [
    "print(\"Dataset contains\", df.shape[0], \"rows and\", df.shape[1], \"columns.\")\n"
   ]
  },
  {
   "cell_type": "markdown",
   "id": "04dc7e2a",
   "metadata": {
    "papermill": {
     "duration": 0.004173,
     "end_time": "2025-08-03T09:38:27.428174",
     "exception": false,
     "start_time": "2025-08-03T09:38:27.424001",
     "status": "completed"
    },
    "tags": []
   },
   "source": [
    "# 4. Dataset Information (Data Types & Null Values)\n",
    "Using df.info(), we inspected:\n",
    "\n",
    "Column names\n",
    "\n",
    "Data types (int, float, object)\n",
    "\n",
    "Count of non-null (available) values per column"
   ]
  },
  {
   "cell_type": "code",
   "execution_count": 4,
   "id": "46736dda",
   "metadata": {
    "execution": {
     "iopub.execute_input": "2025-08-03T09:38:27.438109Z",
     "iopub.status.busy": "2025-08-03T09:38:27.437735Z",
     "iopub.status.idle": "2025-08-03T09:38:27.465462Z",
     "shell.execute_reply": "2025-08-03T09:38:27.463935Z"
    },
    "papermill": {
     "duration": 0.035713,
     "end_time": "2025-08-03T09:38:27.468186",
     "exception": false,
     "start_time": "2025-08-03T09:38:27.432473",
     "status": "completed"
    },
    "tags": []
   },
   "outputs": [
    {
     "name": "stdout",
     "output_type": "stream",
     "text": [
      "<class 'pandas.core.frame.DataFrame'>\n",
      "RangeIndex: 418 entries, 0 to 417\n",
      "Data columns (total 12 columns):\n",
      " #   Column       Non-Null Count  Dtype  \n",
      "---  ------       --------------  -----  \n",
      " 0   PassengerId  418 non-null    int64  \n",
      " 1   Survived     418 non-null    int64  \n",
      " 2   Pclass       418 non-null    int64  \n",
      " 3   Name         418 non-null    object \n",
      " 4   Sex          418 non-null    object \n",
      " 5   Age          332 non-null    float64\n",
      " 6   SibSp        418 non-null    int64  \n",
      " 7   Parch        418 non-null    int64  \n",
      " 8   Ticket       418 non-null    object \n",
      " 9   Fare         417 non-null    float64\n",
      " 10  Cabin        91 non-null     object \n",
      " 11  Embarked     418 non-null    object \n",
      "dtypes: float64(2), int64(5), object(5)\n",
      "memory usage: 39.3+ KB\n"
     ]
    }
   ],
   "source": [
    "df.info()"
   ]
  },
  {
   "cell_type": "markdown",
   "id": "bff746ac",
   "metadata": {
    "papermill": {
     "duration": 0.00425,
     "end_time": "2025-08-03T09:38:27.477050",
     "exception": false,
     "start_time": "2025-08-03T09:38:27.472800",
     "status": "completed"
    },
    "tags": []
   },
   "source": [
    "# 5. Statistical Summary of Dataset\n",
    "We used df.describe(include='all') to get:\n",
    "\n",
    "Mean, Median, Min, Max for numerical columns\n",
    "\n",
    "Unique values, most frequent items for categorical columns\n",
    "This gives an initial sense of the data spread and possible outliers."
   ]
  },
  {
   "cell_type": "code",
   "execution_count": 5,
   "id": "7010b1bb",
   "metadata": {
    "execution": {
     "iopub.execute_input": "2025-08-03T09:38:27.487927Z",
     "iopub.status.busy": "2025-08-03T09:38:27.486848Z",
     "iopub.status.idle": "2025-08-03T09:38:27.532126Z",
     "shell.execute_reply": "2025-08-03T09:38:27.531145Z"
    },
    "papermill": {
     "duration": 0.052265,
     "end_time": "2025-08-03T09:38:27.533619",
     "exception": false,
     "start_time": "2025-08-03T09:38:27.481354",
     "status": "completed"
    },
    "tags": []
   },
   "outputs": [
    {
     "name": "stderr",
     "output_type": "stream",
     "text": [
      "/usr/local/lib/python3.11/dist-packages/pandas/io/formats/format.py:1458: RuntimeWarning: invalid value encountered in greater\n",
      "  has_large_values = (abs_vals > 1e6).any()\n",
      "/usr/local/lib/python3.11/dist-packages/pandas/io/formats/format.py:1459: RuntimeWarning: invalid value encountered in less\n",
      "  has_small_values = ((abs_vals < 10 ** (-self.digits)) & (abs_vals > 0)).any()\n",
      "/usr/local/lib/python3.11/dist-packages/pandas/io/formats/format.py:1459: RuntimeWarning: invalid value encountered in greater\n",
      "  has_small_values = ((abs_vals < 10 ** (-self.digits)) & (abs_vals > 0)).any()\n"
     ]
    },
    {
     "data": {
      "text/html": [
       "<div>\n",
       "<style scoped>\n",
       "    .dataframe tbody tr th:only-of-type {\n",
       "        vertical-align: middle;\n",
       "    }\n",
       "\n",
       "    .dataframe tbody tr th {\n",
       "        vertical-align: top;\n",
       "    }\n",
       "\n",
       "    .dataframe thead th {\n",
       "        text-align: right;\n",
       "    }\n",
       "</style>\n",
       "<table border=\"1\" class=\"dataframe\">\n",
       "  <thead>\n",
       "    <tr style=\"text-align: right;\">\n",
       "      <th></th>\n",
       "      <th>PassengerId</th>\n",
       "      <th>Survived</th>\n",
       "      <th>Pclass</th>\n",
       "      <th>Name</th>\n",
       "      <th>Sex</th>\n",
       "      <th>Age</th>\n",
       "      <th>SibSp</th>\n",
       "      <th>Parch</th>\n",
       "      <th>Ticket</th>\n",
       "      <th>Fare</th>\n",
       "      <th>Cabin</th>\n",
       "      <th>Embarked</th>\n",
       "    </tr>\n",
       "  </thead>\n",
       "  <tbody>\n",
       "    <tr>\n",
       "      <th>count</th>\n",
       "      <td>418.000000</td>\n",
       "      <td>418.000000</td>\n",
       "      <td>418.000000</td>\n",
       "      <td>418</td>\n",
       "      <td>418</td>\n",
       "      <td>332.000000</td>\n",
       "      <td>418.000000</td>\n",
       "      <td>418.000000</td>\n",
       "      <td>418</td>\n",
       "      <td>417.000000</td>\n",
       "      <td>91</td>\n",
       "      <td>418</td>\n",
       "    </tr>\n",
       "    <tr>\n",
       "      <th>unique</th>\n",
       "      <td>NaN</td>\n",
       "      <td>NaN</td>\n",
       "      <td>NaN</td>\n",
       "      <td>418</td>\n",
       "      <td>2</td>\n",
       "      <td>NaN</td>\n",
       "      <td>NaN</td>\n",
       "      <td>NaN</td>\n",
       "      <td>363</td>\n",
       "      <td>NaN</td>\n",
       "      <td>76</td>\n",
       "      <td>3</td>\n",
       "    </tr>\n",
       "    <tr>\n",
       "      <th>top</th>\n",
       "      <td>NaN</td>\n",
       "      <td>NaN</td>\n",
       "      <td>NaN</td>\n",
       "      <td>Kelly, Mr. James</td>\n",
       "      <td>male</td>\n",
       "      <td>NaN</td>\n",
       "      <td>NaN</td>\n",
       "      <td>NaN</td>\n",
       "      <td>PC 17608</td>\n",
       "      <td>NaN</td>\n",
       "      <td>B57 B59 B63 B66</td>\n",
       "      <td>S</td>\n",
       "    </tr>\n",
       "    <tr>\n",
       "      <th>freq</th>\n",
       "      <td>NaN</td>\n",
       "      <td>NaN</td>\n",
       "      <td>NaN</td>\n",
       "      <td>1</td>\n",
       "      <td>266</td>\n",
       "      <td>NaN</td>\n",
       "      <td>NaN</td>\n",
       "      <td>NaN</td>\n",
       "      <td>5</td>\n",
       "      <td>NaN</td>\n",
       "      <td>3</td>\n",
       "      <td>270</td>\n",
       "    </tr>\n",
       "    <tr>\n",
       "      <th>mean</th>\n",
       "      <td>1100.500000</td>\n",
       "      <td>0.363636</td>\n",
       "      <td>2.265550</td>\n",
       "      <td>NaN</td>\n",
       "      <td>NaN</td>\n",
       "      <td>30.272590</td>\n",
       "      <td>0.447368</td>\n",
       "      <td>0.392344</td>\n",
       "      <td>NaN</td>\n",
       "      <td>35.627188</td>\n",
       "      <td>NaN</td>\n",
       "      <td>NaN</td>\n",
       "    </tr>\n",
       "    <tr>\n",
       "      <th>std</th>\n",
       "      <td>120.810458</td>\n",
       "      <td>0.481622</td>\n",
       "      <td>0.841838</td>\n",
       "      <td>NaN</td>\n",
       "      <td>NaN</td>\n",
       "      <td>14.181209</td>\n",
       "      <td>0.896760</td>\n",
       "      <td>0.981429</td>\n",
       "      <td>NaN</td>\n",
       "      <td>55.907576</td>\n",
       "      <td>NaN</td>\n",
       "      <td>NaN</td>\n",
       "    </tr>\n",
       "    <tr>\n",
       "      <th>min</th>\n",
       "      <td>892.000000</td>\n",
       "      <td>0.000000</td>\n",
       "      <td>1.000000</td>\n",
       "      <td>NaN</td>\n",
       "      <td>NaN</td>\n",
       "      <td>0.170000</td>\n",
       "      <td>0.000000</td>\n",
       "      <td>0.000000</td>\n",
       "      <td>NaN</td>\n",
       "      <td>0.000000</td>\n",
       "      <td>NaN</td>\n",
       "      <td>NaN</td>\n",
       "    </tr>\n",
       "    <tr>\n",
       "      <th>25%</th>\n",
       "      <td>996.250000</td>\n",
       "      <td>0.000000</td>\n",
       "      <td>1.000000</td>\n",
       "      <td>NaN</td>\n",
       "      <td>NaN</td>\n",
       "      <td>21.000000</td>\n",
       "      <td>0.000000</td>\n",
       "      <td>0.000000</td>\n",
       "      <td>NaN</td>\n",
       "      <td>7.895800</td>\n",
       "      <td>NaN</td>\n",
       "      <td>NaN</td>\n",
       "    </tr>\n",
       "    <tr>\n",
       "      <th>50%</th>\n",
       "      <td>1100.500000</td>\n",
       "      <td>0.000000</td>\n",
       "      <td>3.000000</td>\n",
       "      <td>NaN</td>\n",
       "      <td>NaN</td>\n",
       "      <td>27.000000</td>\n",
       "      <td>0.000000</td>\n",
       "      <td>0.000000</td>\n",
       "      <td>NaN</td>\n",
       "      <td>14.454200</td>\n",
       "      <td>NaN</td>\n",
       "      <td>NaN</td>\n",
       "    </tr>\n",
       "    <tr>\n",
       "      <th>75%</th>\n",
       "      <td>1204.750000</td>\n",
       "      <td>1.000000</td>\n",
       "      <td>3.000000</td>\n",
       "      <td>NaN</td>\n",
       "      <td>NaN</td>\n",
       "      <td>39.000000</td>\n",
       "      <td>1.000000</td>\n",
       "      <td>0.000000</td>\n",
       "      <td>NaN</td>\n",
       "      <td>31.500000</td>\n",
       "      <td>NaN</td>\n",
       "      <td>NaN</td>\n",
       "    </tr>\n",
       "    <tr>\n",
       "      <th>max</th>\n",
       "      <td>1309.000000</td>\n",
       "      <td>1.000000</td>\n",
       "      <td>3.000000</td>\n",
       "      <td>NaN</td>\n",
       "      <td>NaN</td>\n",
       "      <td>76.000000</td>\n",
       "      <td>8.000000</td>\n",
       "      <td>9.000000</td>\n",
       "      <td>NaN</td>\n",
       "      <td>512.329200</td>\n",
       "      <td>NaN</td>\n",
       "      <td>NaN</td>\n",
       "    </tr>\n",
       "  </tbody>\n",
       "</table>\n",
       "</div>"
      ],
      "text/plain": [
       "        PassengerId    Survived      Pclass              Name   Sex  \\\n",
       "count    418.000000  418.000000  418.000000               418   418   \n",
       "unique          NaN         NaN         NaN               418     2   \n",
       "top             NaN         NaN         NaN  Kelly, Mr. James  male   \n",
       "freq            NaN         NaN         NaN                 1   266   \n",
       "mean    1100.500000    0.363636    2.265550               NaN   NaN   \n",
       "std      120.810458    0.481622    0.841838               NaN   NaN   \n",
       "min      892.000000    0.000000    1.000000               NaN   NaN   \n",
       "25%      996.250000    0.000000    1.000000               NaN   NaN   \n",
       "50%     1100.500000    0.000000    3.000000               NaN   NaN   \n",
       "75%     1204.750000    1.000000    3.000000               NaN   NaN   \n",
       "max     1309.000000    1.000000    3.000000               NaN   NaN   \n",
       "\n",
       "               Age       SibSp       Parch    Ticket        Fare  \\\n",
       "count   332.000000  418.000000  418.000000       418  417.000000   \n",
       "unique         NaN         NaN         NaN       363         NaN   \n",
       "top            NaN         NaN         NaN  PC 17608         NaN   \n",
       "freq           NaN         NaN         NaN         5         NaN   \n",
       "mean     30.272590    0.447368    0.392344       NaN   35.627188   \n",
       "std      14.181209    0.896760    0.981429       NaN   55.907576   \n",
       "min       0.170000    0.000000    0.000000       NaN    0.000000   \n",
       "25%      21.000000    0.000000    0.000000       NaN    7.895800   \n",
       "50%      27.000000    0.000000    0.000000       NaN   14.454200   \n",
       "75%      39.000000    1.000000    0.000000       NaN   31.500000   \n",
       "max      76.000000    8.000000    9.000000       NaN  512.329200   \n",
       "\n",
       "                  Cabin Embarked  \n",
       "count                91      418  \n",
       "unique               76        3  \n",
       "top     B57 B59 B63 B66        S  \n",
       "freq                  3      270  \n",
       "mean                NaN      NaN  \n",
       "std                 NaN      NaN  \n",
       "min                 NaN      NaN  \n",
       "25%                 NaN      NaN  \n",
       "50%                 NaN      NaN  \n",
       "75%                 NaN      NaN  \n",
       "max                 NaN      NaN  "
      ]
     },
     "execution_count": 5,
     "metadata": {},
     "output_type": "execute_result"
    }
   ],
   "source": [
    "df.describe(include='all')"
   ]
  },
  {
   "cell_type": "markdown",
   "id": "f32a846d",
   "metadata": {
    "papermill": {
     "duration": 0.004641,
     "end_time": "2025-08-03T09:38:27.543539",
     "exception": false,
     "start_time": "2025-08-03T09:38:27.538898",
     "status": "completed"
    },
    "tags": []
   },
   "source": []
  },
  {
   "cell_type": "markdown",
   "id": "71582132",
   "metadata": {
    "papermill": {
     "duration": 0.004608,
     "end_time": "2025-08-03T09:38:27.552959",
     "exception": false,
     "start_time": "2025-08-03T09:38:27.548351",
     "status": "completed"
    },
    "tags": []
   },
   "source": [
    "# 6. Checking Missing Values in Each Column\n",
    "We checked how many missing (NaN) values exist in each column using df.isnull().sum().\n",
    "This step helps identify which columns need cleaning."
   ]
  },
  {
   "cell_type": "code",
   "execution_count": 6,
   "id": "1401779e",
   "metadata": {
    "execution": {
     "iopub.execute_input": "2025-08-03T09:38:27.564075Z",
     "iopub.status.busy": "2025-08-03T09:38:27.563606Z",
     "iopub.status.idle": "2025-08-03T09:38:27.577142Z",
     "shell.execute_reply": "2025-08-03T09:38:27.576140Z"
    },
    "papermill": {
     "duration": 0.020886,
     "end_time": "2025-08-03T09:38:27.578624",
     "exception": false,
     "start_time": "2025-08-03T09:38:27.557738",
     "status": "completed"
    },
    "tags": []
   },
   "outputs": [
    {
     "data": {
      "text/plain": [
       "<bound method DataFrame.sum of      PassengerId  Survived  Pclass   Name    Sex    Age  SibSp  Parch  Ticket  \\\n",
       "0          False     False   False  False  False  False  False  False   False   \n",
       "1          False     False   False  False  False  False  False  False   False   \n",
       "2          False     False   False  False  False  False  False  False   False   \n",
       "3          False     False   False  False  False  False  False  False   False   \n",
       "4          False     False   False  False  False  False  False  False   False   \n",
       "..           ...       ...     ...    ...    ...    ...    ...    ...     ...   \n",
       "413        False     False   False  False  False   True  False  False   False   \n",
       "414        False     False   False  False  False  False  False  False   False   \n",
       "415        False     False   False  False  False  False  False  False   False   \n",
       "416        False     False   False  False  False   True  False  False   False   \n",
       "417        False     False   False  False  False   True  False  False   False   \n",
       "\n",
       "      Fare  Cabin  Embarked  \n",
       "0    False   True     False  \n",
       "1    False   True     False  \n",
       "2    False   True     False  \n",
       "3    False   True     False  \n",
       "4    False   True     False  \n",
       "..     ...    ...       ...  \n",
       "413  False   True     False  \n",
       "414  False  False     False  \n",
       "415  False   True     False  \n",
       "416  False   True     False  \n",
       "417  False   True     False  \n",
       "\n",
       "[418 rows x 12 columns]>"
      ]
     },
     "execution_count": 6,
     "metadata": {},
     "output_type": "execute_result"
    }
   ],
   "source": [
    "df.isnull().sum"
   ]
  },
  {
   "cell_type": "markdown",
   "id": "98ec3fbc",
   "metadata": {
    "papermill": {
     "duration": 0.004953,
     "end_time": "2025-08-03T09:38:27.588654",
     "exception": false,
     "start_time": "2025-08-03T09:38:27.583701",
     "status": "completed"
    },
    "tags": []
   },
   "source": [
    "# 7. Column Names\n",
    "Displayed all column names using df.columns to know what fields we’re dealing with."
   ]
  },
  {
   "cell_type": "code",
   "execution_count": 7,
   "id": "2f294112",
   "metadata": {
    "execution": {
     "iopub.execute_input": "2025-08-03T09:38:27.600578Z",
     "iopub.status.busy": "2025-08-03T09:38:27.599490Z",
     "iopub.status.idle": "2025-08-03T09:38:27.605744Z",
     "shell.execute_reply": "2025-08-03T09:38:27.604942Z"
    },
    "papermill": {
     "duration": 0.013681,
     "end_time": "2025-08-03T09:38:27.607236",
     "exception": false,
     "start_time": "2025-08-03T09:38:27.593555",
     "status": "completed"
    },
    "tags": []
   },
   "outputs": [
    {
     "data": {
      "text/plain": [
       "Index(['PassengerId', 'Survived', 'Pclass', 'Name', 'Sex', 'Age', 'SibSp',\n",
       "       'Parch', 'Ticket', 'Fare', 'Cabin', 'Embarked'],\n",
       "      dtype='object')"
      ]
     },
     "execution_count": 7,
     "metadata": {},
     "output_type": "execute_result"
    }
   ],
   "source": [
    "df.columns\n"
   ]
  },
  {
   "cell_type": "markdown",
   "id": "ea8d42d7",
   "metadata": {
    "papermill": {
     "duration": 0.005019,
     "end_time": "2025-08-03T09:38:27.617414",
     "exception": false,
     "start_time": "2025-08-03T09:38:27.612395",
     "status": "completed"
    },
    "tags": []
   },
   "source": []
  },
  {
   "cell_type": "markdown",
   "id": "efaf82c9",
   "metadata": {
    "papermill": {
     "duration": 0.004785,
     "end_time": "2025-08-03T09:38:27.627231",
     "exception": false,
     "start_time": "2025-08-03T09:38:27.622446",
     "status": "completed"
    },
    "tags": []
   },
   "source": [
    "# 8. Visualizing Missing Values using Bar Chart\n",
    "Created a horizontal bar chart to visualize missing values per column, making it easier to spot which columns are most incomplete (like Cabin)."
   ]
  },
  {
   "cell_type": "code",
   "execution_count": 8,
   "id": "9e737d2d",
   "metadata": {
    "execution": {
     "iopub.execute_input": "2025-08-03T09:38:27.638668Z",
     "iopub.status.busy": "2025-08-03T09:38:27.638337Z",
     "iopub.status.idle": "2025-08-03T09:38:28.084284Z",
     "shell.execute_reply": "2025-08-03T09:38:28.083303Z"
    },
    "papermill": {
     "duration": 0.45356,
     "end_time": "2025-08-03T09:38:28.085814",
     "exception": false,
     "start_time": "2025-08-03T09:38:27.632254",
     "status": "completed"
    },
    "tags": []
   },
   "outputs": [
    {
     "data": {
      "image/png": "[encoded data removed]",
      "text/plain": [
       "<Figure size 1000x600 with 1 Axes>"
      ]
     },
     "metadata": {},
     "output_type": "display_data"
    }
   ],
   "source": [
    "plt.figure(figsize=(10,6))\n",
    "df.isnull().sum().plot(kind='barh', color='red')\n",
    "plt.title('Missing Values in Each Column')\n",
    "plt.show()\n"
   ]
  },
  {
   "cell_type": "markdown",
   "id": "417989e7",
   "metadata": {
    "papermill": {
     "duration": 0.005522,
     "end_time": "2025-08-03T09:38:28.097341",
     "exception": false,
     "start_time": "2025-08-03T09:38:28.091819",
     "status": "completed"
    },
    "tags": []
   },
   "source": []
  },
  {
   "cell_type": "markdown",
   "id": "36e4f6ce",
   "metadata": {
    "papermill": {
     "duration": 0.005496,
     "end_time": "2025-08-03T09:38:28.108389",
     "exception": false,
     "start_time": "2025-08-03T09:38:28.102893",
     "status": "completed"
    },
    "tags": []
   },
   "source": [
    "# 9. Gender Distribution (Value Counts + Bar Plot)\n",
    "Plotted a bar chart of male vs. female passengers to understand gender distribution.\n",
    "This also hints at survival patterns which we explore later."
   ]
  },
  {
   "cell_type": "code",
   "execution_count": 9,
   "id": "55859335",
   "metadata": {
    "execution": {
     "iopub.execute_input": "2025-08-03T09:38:28.121147Z",
     "iopub.status.busy": "2025-08-03T09:38:28.120758Z",
     "iopub.status.idle": "2025-08-03T09:38:28.276429Z",
     "shell.execute_reply": "2025-08-03T09:38:28.275191Z"
    },
    "papermill": {
     "duration": 0.164368,
     "end_time": "2025-08-03T09:38:28.278392",
     "exception": false,
     "start_time": "2025-08-03T09:38:28.114024",
     "status": "completed"
    },
    "tags": []
   },
   "outputs": [
    {
     "data": {
      "image/png": "[encoded data removed]",
      "text/plain": [
       "<Figure size 640x480 with 1 Axes>"
      ]
     },
     "metadata": {},
     "output_type": "display_data"
    }
   ],
   "source": [
    "\n",
    "df['Sex'].value_counts().plot(kind='bar', color=['lightblue', 'pink'])\n",
    "\n",
    "plt.title('Gender Distribution')\n",
    "plt.xlabel('Sex')\n",
    "plt.ylabel('Count')\n",
    "plt.show()\n"
   ]
  },
  {
   "cell_type": "markdown",
   "id": "b2ba90ad",
   "metadata": {
    "papermill": {
     "duration": 0.005835,
     "end_time": "2025-08-03T09:38:28.290475",
     "exception": false,
     "start_time": "2025-08-03T09:38:28.284640",
     "status": "completed"
    },
    "tags": []
   },
   "source": []
  },
  {
   "cell_type": "markdown",
   "id": "b02039ad",
   "metadata": {
    "papermill": {
     "duration": 0.00627,
     "end_time": "2025-08-03T09:38:28.302729",
     "exception": false,
     "start_time": "2025-08-03T09:38:28.296459",
     "status": "completed"
    },
    "tags": []
   },
   "source": [
    "# 10. Survival Rate by Gender (Bar Plot)\n",
    "Analyzed how survival rates vary between males and females using a grouped bar plot.\n",
    "From here, it’s evident that females had a much higher survival rate compared to males, which aligns with the historical “women and children first” evacuation policy.\n",
    "\n"
   ]
  },
  {
   "cell_type": "code",
   "execution_count": 10,
   "id": "fb867425",
   "metadata": {
    "execution": {
     "iopub.execute_input": "2025-08-03T09:38:28.316448Z",
     "iopub.status.busy": "2025-08-03T09:38:28.315847Z",
     "iopub.status.idle": "2025-08-03T09:38:28.465824Z",
     "shell.execute_reply": "2025-08-03T09:38:28.464821Z"
    },
    "papermill": {
     "duration": 0.159142,
     "end_time": "2025-08-03T09:38:28.467834",
     "exception": false,
     "start_time": "2025-08-03T09:38:28.308692",
     "status": "completed"
    },
    "tags": []
   },
   "outputs": [
    {
     "data": {
      "image/png": "[encoded data removed]",
      "text/plain": [
       "<Figure size 640x480 with 1 Axes>"
      ]
     },
     "metadata": {},
     "output_type": "display_data"
    }
   ],
   "source": [
    "df.groupby('Sex')['Survived'].mean().plot(kind='bar', color=['skyblue', 'pink'])\n",
    "plt.title('Survival Rate by Gender')\n",
    "plt.ylabel('Survival Rate')\n",
    "plt.show()\n"
   ]
  },
  {
   "cell_type": "markdown",
   "id": "0c440d21",
   "metadata": {
    "papermill": {
     "duration": 0.006006,
     "end_time": "2025-08-03T09:38:28.480480",
     "exception": false,
     "start_time": "2025-08-03T09:38:28.474474",
     "status": "completed"
    },
    "tags": []
   },
   "source": [
    "# 🚢 Titanic EDA Summary:\n",
    "I explored the Titanic dataset to understand passenger survival patterns. After cleaning missing values, I analyzed how factors like Gender, Passenger Class, Fare, and Family size impacted survival. Visualizations showed that females and first-class passengers had higher survival rates, while most third-class male passengers didn’t survive. Using Pandas, Numpy, Matplotlib, and Seaborn, I visualized key patterns, correlations, and uncovered meaningful insights from the data."
   ]
  }
 ],
 "metadata": {
  "kaggle": {
   "accelerator": "none",
   "dataSources": [
    {
     "datasetId": 826163,
     "sourceId": 2879186,
     "sourceType": "datasetVersion"
    }
   ],
   "dockerImageVersionId": 31089,
   "isGpuEnabled": false,
   "isInternetEnabled": true,
   "language": "python",
   "sourceType": "notebook"
  },
  "kernelspec": {
   "display_name": "Python 3",
   "language": "python",
   "name": "python3"
  },
  "language_info": {
   "codemirror_mode": {
    "name": "ipython",
    "version": 3
   },
   "file_extension": ".py",
   "mimetype": "text/x-python",
   "name": "python",
   "nbconvert_exporter": "python",
   "pygments_lexer": "ipython3",
   "version": "3.11.13"
  },
  "papermill": {
   "default_parameters": {},
   "duration": 10.899697,
   "end_time": "2025-08-03T09:38:29.208334",
   "environment_variables": {},
   "exception": null,
   "input_path": "__notebook__.ipynb",
   "output_path": "__notebook__.ipynb",
   "parameters": {},
   "start_time": "2025-08-03T09:38:18.308637",
   "version": "2.6.0"
  }
 },
 "nbformat": 4,
 "nbformat_minor": 5
}
